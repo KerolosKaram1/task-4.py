{
  "nbformat": 4,
  "nbformat_minor": 0,
  "metadata": {
    "colab": {
      "provenance": []
    },
    "kernelspec": {
      "name": "python3",
      "display_name": "Python 3"
    },
    "language_info": {
      "name": "python"
    }
  },
  "cells": [
    {
      "cell_type": "code",
      "source": [
        "def add(x, y):\n",
        "    return x+y\n",
        "\n",
        "def subtract(x, y):\n",
        "    return x-y\n",
        "\n",
        "def multiply(x, y):\n",
        "    return x*y\n",
        "\n",
        "def divide(x, y):\n",
        "    if y!=0:\n",
        "        return x/y\n",
        "    else:\n",
        "        return \"Error! Can’t Divide by zero\"\n",
        "\n",
        "def even(num):\n",
        "    return num%2==0\n",
        "\n",
        "def odd(num):\n",
        "    return num%2!=0\n",
        "\n",
        "def factorial(num):\n",
        "    if num == 0:\n",
        "        return 1\n",
        "    else:\n",
        "        return num * factorial(num - 1)\n",
        "\n",
        "def fibonacci(n):\n",
        "    fibo = []\n",
        "    a, b = 0, 1\n",
        "    while len(fibo) < n:\n",
        "        fibo.append(a)\n",
        "        a, b = b, a + b\n",
        "    return fibo\n",
        "\n",
        "num1 = float(input(\"Enter first number: \"))\n",
        "num2 = float(input(\"Enter second number: \"))\n",
        "\n",
        "print(\"Add:\", add(num1, num2))\n",
        "print(\"Sub:\", subtract(num1, num2))\n",
        "print(\"Multiple :\", multiply(num1, num2))\n",
        "print(\"Division:\", divide(num1, num2))\n",
        "print(\"Num 1 is even?\", even(num1))\n",
        "print(\"Num 2 is even?\", even(num2))\n",
        "print(\"Num 1 is odd?\", odd(num1))\n",
        "print(\"Num 2 is odd?\", odd(num2))\n",
        "print(\"Factorial of num1:\", factorial(int(num1)))\n",
        "print(\"Factorial of num2:\", factorial(int(num2)))\n",
        "print(\"Fibonacci 0f num1:\", fibonacci(int(num1)))\n",
        "print(\"Fibonacci of num2:\", fibonacci(int(num2)))"
      ],
      "metadata": {
        "colab": {
          "base_uri": "https://localhost:8080/"
        },
        "id": "zwtRcIw8oxw0",
        "outputId": "93b386ae-0cd5-4f73-e4f7-d7d307839d08"
      },
      "execution_count": 13,
      "outputs": [
        {
          "output_type": "stream",
          "name": "stdout",
          "text": [
            "Enter first number: 5\n",
            "Enter second number: 5\n",
            "Add: 10.0\n",
            "Sub: 0.0\n",
            "Multiple : 25.0\n",
            "Division: 1.0\n",
            "Num 1 is even? False\n",
            "Num 2 is even? False\n",
            "Num 1 is odd? True\n",
            "Num 2 is odd? True\n",
            "Factorial of num1: 120\n",
            "Factorial of num2: 120\n",
            "Fibonacci 0f num1: [0, 1, 1, 2, 3]\n",
            "Fibonacci of num2: [0, 1, 1, 2, 3]\n"
          ]
        }
      ]
    }
  ]
}